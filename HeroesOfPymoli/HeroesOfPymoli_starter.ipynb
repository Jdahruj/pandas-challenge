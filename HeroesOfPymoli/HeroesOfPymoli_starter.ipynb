{
 "cells": [
  {
   "cell_type": "markdown",
   "metadata": {},
   "source": [
    "### Heroes Of Pymoli Data Analysis\n",
    "* Of the 1163 active players, the vast majority are male (84%). There also exists, a smaller, but notable proportion of female players (14%).\n",
    "\n",
    "* Our peak age demographic falls between 20-24 (44.8%) with secondary groups falling between 15-19 (18.60%) and 25-29 (13.4%).  \n",
    "-----"
   ]
  },
  {
   "cell_type": "markdown",
   "metadata": {},
   "source": [
    "### Note\n",
    "* Instructions have been included for each segment. You do not have to follow them exactly, but they are included to help you think through the steps."
   ]
  },
  {
   "cell_type": "code",
   "execution_count": 11,
   "metadata": {},
   "outputs": [],
   "source": [
    "# Dependencies and Setup\n",
    "import pandas as pd\n",
    "\n",
    "# File to Load (Remember to Change These)\n",
    "file_to_load = \"Resources/purchase_data.csv\"\n",
    "\n",
    "# Read Purchasing File and store into Pandas data frame\n",
    "df = pd.read_csv(file_to_load)"
   ]
  },
  {
   "cell_type": "markdown",
   "metadata": {},
   "source": [
    "## Player Count"
   ]
  },
  {
   "cell_type": "markdown",
   "metadata": {},
   "source": [
    "* Display the total number of players\n"
   ]
  },
  {
   "cell_type": "code",
   "execution_count": 21,
   "metadata": {},
   "outputs": [
    {
     "output_type": "stream",
     "name": "stdout",
     "text": "576 total players\n"
    }
   ],
   "source": [
    "total_players = df[\"SN\"].nunique()\n",
    "print(str(total_players) + \" total players\")"
   ]
  },
  {
   "cell_type": "markdown",
   "metadata": {},
   "source": [
    "## Purchasing Analysis (Total)"
   ]
  },
  {
   "cell_type": "markdown",
   "metadata": {},
   "source": [
    "* Run basic calculations to obtain number of unique items, average price, etc.\n",
    "\n",
    "\n",
    "* Create a summary data frame to hold the results\n",
    "\n",
    "\n",
    "* Optional: give the displayed data cleaner formatting\n",
    "\n",
    "\n",
    "* Display the summary data frame\n"
   ]
  },
  {
   "cell_type": "code",
   "execution_count": 22,
   "metadata": {
    "scrolled": true
   },
   "outputs": [
    {
     "output_type": "execute_result",
     "data": {
      "text/plain": "<pandas.io.formats.style.Styler at 0x117bd1ad0>",
      "text/html": "<style  type=\"text/css\" >\n</style><table id=\"T_e31aeea2_7488_11ea_8a15_985aeb8dd064\" ><thead>    <tr>        <th class=\"col_heading level0 col0\" >Unique Items</th>        <th class=\"col_heading level0 col1\" >Average Price</th>        <th class=\"col_heading level0 col2\" >Total Purchases</th>        <th class=\"col_heading level0 col3\" >Total Revenue</th>    </tr></thead><tbody>\n                <tr>\n                                <td id=\"T_e31aeea2_7488_11ea_8a15_985aeb8dd064row0_col0\" class=\"data row0 col0\" >179</td>\n                        <td id=\"T_e31aeea2_7488_11ea_8a15_985aeb8dd064row0_col1\" class=\"data row0 col1\" >$3.05</td>\n                        <td id=\"T_e31aeea2_7488_11ea_8a15_985aeb8dd064row0_col2\" class=\"data row0 col2\" >780</td>\n                        <td id=\"T_e31aeea2_7488_11ea_8a15_985aeb8dd064row0_col3\" class=\"data row0 col3\" >$2379.77</td>\n            </tr>\n    </tbody></table>"
     },
     "metadata": {},
     "execution_count": 22
    }
   ],
   "source": [
    "unique_items = df[\"Item ID\"].nunique()\n",
    "average_price = round(df[\"Price\"].mean(), 2)\n",
    "total_purchases = df[\"Purchase ID\"].size\n",
    "total_revenue = df[\"Price\"].sum()\n",
    "\n",
    "summary_df = pd.DataFrame({\"Unique Items\" : [unique_items],\n",
    "                          \"Average Price\" : [\"$\" + str(average_price)],\n",
    "                          \"Total Purchases\" : [total_purchases],\n",
    "                          \"Total Revenue\" : [\"$\" + str(total_revenue)]})\n",
    "\n",
    "summary_df.style.hide_index()"
   ]
  },
  {
   "cell_type": "markdown",
   "metadata": {},
   "source": [
    "## Gender Demographics"
   ]
  },
  {
   "cell_type": "markdown",
   "metadata": {},
   "source": [
    "* Percentage and Count of Male Players\n",
    "\n",
    "\n",
    "* Percentage and Count of Female Players\n",
    "\n",
    "\n",
    "* Percentage and Count of Other / Non-Disclosed\n",
    "\n",
    "\n"
   ]
  },
  {
   "cell_type": "code",
   "execution_count": 23,
   "metadata": {},
   "outputs": [
    {
     "output_type": "execute_result",
     "data": {
      "text/plain": "<pandas.io.formats.style.Styler at 0x1170355d0>",
      "text/html": "<style  type=\"text/css\" >\n</style><table id=\"T_e31fafc8_7488_11ea_8a15_985aeb8dd064\" ><thead>    <tr>        <th class=\"col_heading level0 col0\" >Gender</th>        <th class=\"col_heading level0 col1\" >Total Count</th>        <th class=\"col_heading level0 col2\" >Percentage of Players</th>    </tr></thead><tbody>\n                <tr>\n                                <td id=\"T_e31fafc8_7488_11ea_8a15_985aeb8dd064row0_col0\" class=\"data row0 col0\" >Male</td>\n                        <td id=\"T_e31fafc8_7488_11ea_8a15_985aeb8dd064row0_col1\" class=\"data row0 col1\" >484</td>\n                        <td id=\"T_e31fafc8_7488_11ea_8a15_985aeb8dd064row0_col2\" class=\"data row0 col2\" >84.03%</td>\n            </tr>\n            <tr>\n                                <td id=\"T_e31fafc8_7488_11ea_8a15_985aeb8dd064row1_col0\" class=\"data row1 col0\" >Female</td>\n                        <td id=\"T_e31fafc8_7488_11ea_8a15_985aeb8dd064row1_col1\" class=\"data row1 col1\" >81</td>\n                        <td id=\"T_e31fafc8_7488_11ea_8a15_985aeb8dd064row1_col2\" class=\"data row1 col2\" >14.06%</td>\n            </tr>\n            <tr>\n                                <td id=\"T_e31fafc8_7488_11ea_8a15_985aeb8dd064row2_col0\" class=\"data row2 col0\" >Other / Non-Disclosed</td>\n                        <td id=\"T_e31fafc8_7488_11ea_8a15_985aeb8dd064row2_col1\" class=\"data row2 col1\" >11</td>\n                        <td id=\"T_e31fafc8_7488_11ea_8a15_985aeb8dd064row2_col2\" class=\"data row2 col2\" >1.91%</td>\n            </tr>\n    </tbody></table>"
     },
     "metadata": {},
     "execution_count": 23
    }
   ],
   "source": [
    "gender_df = df.drop_duplicates(subset=\"SN\")\n",
    "\n",
    "male_player_count = gender_df[\"Gender\"].value_counts()[\"Male\"]\n",
    "male_player_percent = round((male_player_count/total_players)*100, 2)\n",
    "\n",
    "female_player_count = gender_df[\"Gender\"].value_counts()[\"Female\"]\n",
    "female_player_percent = round((female_player_count/total_players)*100, 2)\n",
    "\n",
    "other_player_count = gender_df[\"Gender\"].value_counts()[\"Other / Non-Disclosed\"]\n",
    "other_player_percent = round(((other_player_count/total_players)*100), 2)\n",
    "\n",
    "gender_report = pd.DataFrame({\"Gender\" : [\"Male\", \"Female\", \"Other / Non-Disclosed\"],\n",
    "                          \"Total Count\" : [male_player_count, female_player_count, other_player_count],\n",
    "                          \"Percentage of Players\" : [str(male_player_percent) + \"%\", str(female_player_percent) + \"%\", str(other_player_percent) + \"%\"]})\n",
    "\n",
    "gender_report.style.hide_index()"
   ]
  },
  {
   "cell_type": "markdown",
   "metadata": {},
   "source": [
    "\n",
    "## Purchasing Analysis (Gender)"
   ]
  },
  {
   "cell_type": "markdown",
   "metadata": {},
   "source": [
    "* Run basic calculations to obtain purchase count, avg. purchase price, avg. purchase total per person etc. by gender\n",
    "\n",
    "\n",
    "\n",
    "\n",
    "* Create a summary data frame to hold the results\n",
    "\n",
    "\n",
    "* Optional: give the displayed data cleaner formatting\n",
    "\n",
    "\n",
    "* Display the summary data frame"
   ]
  },
  {
   "cell_type": "code",
   "execution_count": 24,
   "metadata": {},
   "outputs": [
    {
     "output_type": "execute_result",
     "data": {
      "text/plain": "<pandas.io.formats.style.Styler at 0x117be0610>",
      "text/html": "<style  type=\"text/css\" >\n</style><table id=\"T_e324b658_7488_11ea_8a15_985aeb8dd064\" ><thead>    <tr>        <th class=\"col_heading level0 col0\" >Gender</th>        <th class=\"col_heading level0 col1\" >Purchase Count</th>        <th class=\"col_heading level0 col2\" >Average Purchase Price</th>        <th class=\"col_heading level0 col3\" >Total Purchase Value</th>        <th class=\"col_heading level0 col4\" >Avg Total Purchase per Person by Gender</th>    </tr></thead><tbody>\n                <tr>\n                                <td id=\"T_e324b658_7488_11ea_8a15_985aeb8dd064row0_col0\" class=\"data row0 col0\" >Male</td>\n                        <td id=\"T_e324b658_7488_11ea_8a15_985aeb8dd064row0_col1\" class=\"data row0 col1\" >652</td>\n                        <td id=\"T_e324b658_7488_11ea_8a15_985aeb8dd064row0_col2\" class=\"data row0 col2\" >$3.02</td>\n                        <td id=\"T_e324b658_7488_11ea_8a15_985aeb8dd064row0_col3\" class=\"data row0 col3\" >$1967.64</td>\n                        <td id=\"T_e324b658_7488_11ea_8a15_985aeb8dd064row0_col4\" class=\"data row0 col4\" >$4.07</td>\n            </tr>\n            <tr>\n                                <td id=\"T_e324b658_7488_11ea_8a15_985aeb8dd064row1_col0\" class=\"data row1 col0\" >Female</td>\n                        <td id=\"T_e324b658_7488_11ea_8a15_985aeb8dd064row1_col1\" class=\"data row1 col1\" >113</td>\n                        <td id=\"T_e324b658_7488_11ea_8a15_985aeb8dd064row1_col2\" class=\"data row1 col2\" >$3.20</td>\n                        <td id=\"T_e324b658_7488_11ea_8a15_985aeb8dd064row1_col3\" class=\"data row1 col3\" >$361.94</td>\n                        <td id=\"T_e324b658_7488_11ea_8a15_985aeb8dd064row1_col4\" class=\"data row1 col4\" >$4.47</td>\n            </tr>\n            <tr>\n                                <td id=\"T_e324b658_7488_11ea_8a15_985aeb8dd064row2_col0\" class=\"data row2 col0\" >Other / Non-Disclosed</td>\n                        <td id=\"T_e324b658_7488_11ea_8a15_985aeb8dd064row2_col1\" class=\"data row2 col1\" >15</td>\n                        <td id=\"T_e324b658_7488_11ea_8a15_985aeb8dd064row2_col2\" class=\"data row2 col2\" >$3.35</td>\n                        <td id=\"T_e324b658_7488_11ea_8a15_985aeb8dd064row2_col3\" class=\"data row2 col3\" >$50.19</td>\n                        <td id=\"T_e324b658_7488_11ea_8a15_985aeb8dd064row2_col4\" class=\"data row2 col4\" >$4.56</td>\n            </tr>\n    </tbody></table>"
     },
     "metadata": {},
     "execution_count": 24
    }
   ],
   "source": [
    "male_df = df.loc[df[\"Gender\"] == \"Male\"]\n",
    "female_df = df.loc[df[\"Gender\"] == \"Female\"]\n",
    "other_df = df.loc[df[\"Gender\"] == \"Other / Non-Disclosed\"]\n",
    "\n",
    "mpc = df[\"Gender\"].value_counts()[\"Male\"]\n",
    "fpc = df[\"Gender\"].value_counts()[\"Female\"]\n",
    "opc = df[\"Gender\"].value_counts()[\"Other / Non-Disclosed\"]\n",
    "\n",
    "mapp = male_df[\"Price\"].mean()\n",
    "fapp = female_df[\"Price\"].mean()\n",
    "oapp = other_df[\"Price\"].mean()\n",
    "\n",
    "mtpv = male_df[\"Price\"].sum()\n",
    "ftpv = female_df[\"Price\"].sum()\n",
    "otpv = other_df[\"Price\"].sum()\n",
    "\n",
    "matpp = mtpv / male_player_count\n",
    "fatpp = ftpv / female_player_count\n",
    "oatpp = otpv / other_player_count\n",
    "\n",
    "gender_purchasing_report = pd.DataFrame({\"Gender\" : [\"Male\", \"Female\", \"Other / Non-Disclosed\"],\n",
    "                                         \"Purchase Count\" : [mpc, fpc, opc],\n",
    "                                         \"Average Purchase Price\" : [mapp, fapp, oapp],\n",
    "                                         \"Total Purchase Value\" : [mtpv, ftpv, otpv],\n",
    "                                        \"Avg Total Purchase per Person by Gender\" : [matpp, fatpp, oatpp]})\n",
    "\n",
    "gender_purchasing_report.style.hide_index().format({\"Average Purchase Price\": \"${:.2f}\", \"Total Purchase Value\": \"${:.2f}\", \"Avg Total Purchase per Person by Gender\": \"${:.2f}\"})"
   ]
  },
  {
   "cell_type": "markdown",
   "metadata": {},
   "source": [
    "## Age Demographics"
   ]
  },
  {
   "cell_type": "markdown",
   "metadata": {},
   "source": [
    "* Establish bins for ages\n",
    "\n",
    "\n",
    "* Categorize the existing players using the age bins. Hint: use pd.cut()\n",
    "\n",
    "\n",
    "* Calculate the numbers and percentages by age group\n",
    "\n",
    "\n",
    "* Create a summary data frame to hold the results\n",
    "\n",
    "\n",
    "* Optional: round the percentage column to two decimal points\n",
    "\n",
    "\n",
    "* Display Age Demographics Table\n"
   ]
  },
  {
   "cell_type": "code",
   "execution_count": 25,
   "metadata": {
    "scrolled": true
   },
   "outputs": [
    {
     "output_type": "execute_result",
     "data": {
      "text/plain": "<pandas.io.formats.style.Styler at 0x117a53e50>",
      "text/html": "<style  type=\"text/css\" >\n</style><table id=\"T_e328e598_7488_11ea_8a15_985aeb8dd064\" ><thead>    <tr>        <th class=\"blank level0\" ></th>        <th class=\"col_heading level0 col0\" >Total Count</th>        <th class=\"col_heading level0 col1\" >Percentage of Players</th>    </tr>    <tr>        <th class=\"index_name level0\" >Age Group</th>        <th class=\"blank\" ></th>        <th class=\"blank\" ></th>    </tr></thead><tbody>\n                <tr>\n                        <th id=\"T_e328e598_7488_11ea_8a15_985aeb8dd064level0_row0\" class=\"row_heading level0 row0\" ><10</th>\n                        <td id=\"T_e328e598_7488_11ea_8a15_985aeb8dd064row0_col0\" class=\"data row0 col0\" >17</td>\n                        <td id=\"T_e328e598_7488_11ea_8a15_985aeb8dd064row0_col1\" class=\"data row0 col1\" >2.95%</td>\n            </tr>\n            <tr>\n                        <th id=\"T_e328e598_7488_11ea_8a15_985aeb8dd064level0_row1\" class=\"row_heading level0 row1\" >10-14</th>\n                        <td id=\"T_e328e598_7488_11ea_8a15_985aeb8dd064row1_col0\" class=\"data row1 col0\" >22</td>\n                        <td id=\"T_e328e598_7488_11ea_8a15_985aeb8dd064row1_col1\" class=\"data row1 col1\" >3.82%</td>\n            </tr>\n            <tr>\n                        <th id=\"T_e328e598_7488_11ea_8a15_985aeb8dd064level0_row2\" class=\"row_heading level0 row2\" >15-19</th>\n                        <td id=\"T_e328e598_7488_11ea_8a15_985aeb8dd064row2_col0\" class=\"data row2 col0\" >107</td>\n                        <td id=\"T_e328e598_7488_11ea_8a15_985aeb8dd064row2_col1\" class=\"data row2 col1\" >18.58%</td>\n            </tr>\n            <tr>\n                        <th id=\"T_e328e598_7488_11ea_8a15_985aeb8dd064level0_row3\" class=\"row_heading level0 row3\" >20-24</th>\n                        <td id=\"T_e328e598_7488_11ea_8a15_985aeb8dd064row3_col0\" class=\"data row3 col0\" >258</td>\n                        <td id=\"T_e328e598_7488_11ea_8a15_985aeb8dd064row3_col1\" class=\"data row3 col1\" >44.79%</td>\n            </tr>\n            <tr>\n                        <th id=\"T_e328e598_7488_11ea_8a15_985aeb8dd064level0_row4\" class=\"row_heading level0 row4\" >25-29</th>\n                        <td id=\"T_e328e598_7488_11ea_8a15_985aeb8dd064row4_col0\" class=\"data row4 col0\" >77</td>\n                        <td id=\"T_e328e598_7488_11ea_8a15_985aeb8dd064row4_col1\" class=\"data row4 col1\" >13.37%</td>\n            </tr>\n            <tr>\n                        <th id=\"T_e328e598_7488_11ea_8a15_985aeb8dd064level0_row5\" class=\"row_heading level0 row5\" >30-34</th>\n                        <td id=\"T_e328e598_7488_11ea_8a15_985aeb8dd064row5_col0\" class=\"data row5 col0\" >52</td>\n                        <td id=\"T_e328e598_7488_11ea_8a15_985aeb8dd064row5_col1\" class=\"data row5 col1\" >9.03%</td>\n            </tr>\n            <tr>\n                        <th id=\"T_e328e598_7488_11ea_8a15_985aeb8dd064level0_row6\" class=\"row_heading level0 row6\" >35-39</th>\n                        <td id=\"T_e328e598_7488_11ea_8a15_985aeb8dd064row6_col0\" class=\"data row6 col0\" >31</td>\n                        <td id=\"T_e328e598_7488_11ea_8a15_985aeb8dd064row6_col1\" class=\"data row6 col1\" >5.38%</td>\n            </tr>\n            <tr>\n                        <th id=\"T_e328e598_7488_11ea_8a15_985aeb8dd064level0_row7\" class=\"row_heading level0 row7\" >40+</th>\n                        <td id=\"T_e328e598_7488_11ea_8a15_985aeb8dd064row7_col0\" class=\"data row7 col0\" >12</td>\n                        <td id=\"T_e328e598_7488_11ea_8a15_985aeb8dd064row7_col1\" class=\"data row7 col1\" >2.08%</td>\n            </tr>\n    </tbody></table>"
     },
     "metadata": {},
     "execution_count": 25
    }
   ],
   "source": [
    "age_bins = [0, 9.90, 14.90, 19.90, 24.90, 29.90, 34.90, 39.90, 99999]\n",
    "group_names = [\"<10\", \"10-14\", \"15-19\", \"20-24\", \"25-29\", \"30-34\", \"35-39\", \"40+\"]\n",
    "\n",
    "df[\"Age Group\"] = pd.cut(df[\"Age\"], age_bins, labels=group_names)\n",
    "\n",
    "age_df = df.groupby(\"Age Group\")\n",
    "\n",
    "age_count = age_df[\"SN\"].nunique()\n",
    "\n",
    "age_percent = (age_count / total_players)\n",
    "\n",
    "age_demo_report = pd.DataFrame({\"Total Count\": age_count, \"Percentage of Players\": age_percent})\n",
    "age_demo_report.style.format({\"Percentage of Players\": \"{:.2%}\"})\n",
    ""
   ]
  },
  {
   "cell_type": "markdown",
   "metadata": {},
   "source": [
    "## Purchasing Analysis (Age)"
   ]
  },
  {
   "cell_type": "markdown",
   "metadata": {},
   "source": [
    "* Bin the purchase_data data frame by age\n",
    "\n",
    "\n",
    "* Run basic calculations to obtain purchase count, avg. purchase price, avg. purchase total per person etc. in the table below\n",
    "\n",
    "\n",
    "* Create a summary data frame to hold the results\n",
    "\n",
    "\n",
    "* Optional: give the displayed data cleaner formatting\n",
    "\n",
    "\n",
    "* Display the summary data frame"
   ]
  },
  {
   "cell_type": "code",
   "execution_count": 26,
   "metadata": {},
   "outputs": [
    {
     "output_type": "execute_result",
     "data": {
      "text/plain": "<pandas.io.formats.style.Styler at 0x117a5e710>",
      "text/html": "<style  type=\"text/css\" >\n</style><table id=\"T_e32cb1f0_7488_11ea_8a15_985aeb8dd064\" ><thead>    <tr>        <th class=\"blank level0\" ></th>        <th class=\"col_heading level0 col0\" >Purchase Count</th>        <th class=\"col_heading level0 col1\" >Average Purchase Price</th>        <th class=\"col_heading level0 col2\" >Total Purchase Value</th>        <th class=\"col_heading level0 col3\" >Average Purchase Total per Person</th>    </tr>    <tr>        <th class=\"index_name level0\" >Age Group</th>        <th class=\"blank\" ></th>        <th class=\"blank\" ></th>        <th class=\"blank\" ></th>        <th class=\"blank\" ></th>    </tr></thead><tbody>\n                <tr>\n                        <th id=\"T_e32cb1f0_7488_11ea_8a15_985aeb8dd064level0_row0\" class=\"row_heading level0 row0\" ><10</th>\n                        <td id=\"T_e32cb1f0_7488_11ea_8a15_985aeb8dd064row0_col0\" class=\"data row0 col0\" >23</td>\n                        <td id=\"T_e32cb1f0_7488_11ea_8a15_985aeb8dd064row0_col1\" class=\"data row0 col1\" >$3.35</td>\n                        <td id=\"T_e32cb1f0_7488_11ea_8a15_985aeb8dd064row0_col2\" class=\"data row0 col2\" >$77.13</td>\n                        <td id=\"T_e32cb1f0_7488_11ea_8a15_985aeb8dd064row0_col3\" class=\"data row0 col3\" >$4.54</td>\n            </tr>\n            <tr>\n                        <th id=\"T_e32cb1f0_7488_11ea_8a15_985aeb8dd064level0_row1\" class=\"row_heading level0 row1\" >10-14</th>\n                        <td id=\"T_e32cb1f0_7488_11ea_8a15_985aeb8dd064row1_col0\" class=\"data row1 col0\" >28</td>\n                        <td id=\"T_e32cb1f0_7488_11ea_8a15_985aeb8dd064row1_col1\" class=\"data row1 col1\" >$2.96</td>\n                        <td id=\"T_e32cb1f0_7488_11ea_8a15_985aeb8dd064row1_col2\" class=\"data row1 col2\" >$82.78</td>\n                        <td id=\"T_e32cb1f0_7488_11ea_8a15_985aeb8dd064row1_col3\" class=\"data row1 col3\" >$3.76</td>\n            </tr>\n            <tr>\n                        <th id=\"T_e32cb1f0_7488_11ea_8a15_985aeb8dd064level0_row2\" class=\"row_heading level0 row2\" >15-19</th>\n                        <td id=\"T_e32cb1f0_7488_11ea_8a15_985aeb8dd064row2_col0\" class=\"data row2 col0\" >136</td>\n                        <td id=\"T_e32cb1f0_7488_11ea_8a15_985aeb8dd064row2_col1\" class=\"data row2 col1\" >$3.04</td>\n                        <td id=\"T_e32cb1f0_7488_11ea_8a15_985aeb8dd064row2_col2\" class=\"data row2 col2\" >$412.89</td>\n                        <td id=\"T_e32cb1f0_7488_11ea_8a15_985aeb8dd064row2_col3\" class=\"data row2 col3\" >$3.86</td>\n            </tr>\n            <tr>\n                        <th id=\"T_e32cb1f0_7488_11ea_8a15_985aeb8dd064level0_row3\" class=\"row_heading level0 row3\" >20-24</th>\n                        <td id=\"T_e32cb1f0_7488_11ea_8a15_985aeb8dd064row3_col0\" class=\"data row3 col0\" >365</td>\n                        <td id=\"T_e32cb1f0_7488_11ea_8a15_985aeb8dd064row3_col1\" class=\"data row3 col1\" >$3.05</td>\n                        <td id=\"T_e32cb1f0_7488_11ea_8a15_985aeb8dd064row3_col2\" class=\"data row3 col2\" >$1114.06</td>\n                        <td id=\"T_e32cb1f0_7488_11ea_8a15_985aeb8dd064row3_col3\" class=\"data row3 col3\" >$4.32</td>\n            </tr>\n            <tr>\n                        <th id=\"T_e32cb1f0_7488_11ea_8a15_985aeb8dd064level0_row4\" class=\"row_heading level0 row4\" >25-29</th>\n                        <td id=\"T_e32cb1f0_7488_11ea_8a15_985aeb8dd064row4_col0\" class=\"data row4 col0\" >101</td>\n                        <td id=\"T_e32cb1f0_7488_11ea_8a15_985aeb8dd064row4_col1\" class=\"data row4 col1\" >$2.90</td>\n                        <td id=\"T_e32cb1f0_7488_11ea_8a15_985aeb8dd064row4_col2\" class=\"data row4 col2\" >$293.00</td>\n                        <td id=\"T_e32cb1f0_7488_11ea_8a15_985aeb8dd064row4_col3\" class=\"data row4 col3\" >$3.81</td>\n            </tr>\n            <tr>\n                        <th id=\"T_e32cb1f0_7488_11ea_8a15_985aeb8dd064level0_row5\" class=\"row_heading level0 row5\" >30-34</th>\n                        <td id=\"T_e32cb1f0_7488_11ea_8a15_985aeb8dd064row5_col0\" class=\"data row5 col0\" >73</td>\n                        <td id=\"T_e32cb1f0_7488_11ea_8a15_985aeb8dd064row5_col1\" class=\"data row5 col1\" >$2.93</td>\n                        <td id=\"T_e32cb1f0_7488_11ea_8a15_985aeb8dd064row5_col2\" class=\"data row5 col2\" >$214.00</td>\n                        <td id=\"T_e32cb1f0_7488_11ea_8a15_985aeb8dd064row5_col3\" class=\"data row5 col3\" >$4.12</td>\n            </tr>\n            <tr>\n                        <th id=\"T_e32cb1f0_7488_11ea_8a15_985aeb8dd064level0_row6\" class=\"row_heading level0 row6\" >35-39</th>\n                        <td id=\"T_e32cb1f0_7488_11ea_8a15_985aeb8dd064row6_col0\" class=\"data row6 col0\" >41</td>\n                        <td id=\"T_e32cb1f0_7488_11ea_8a15_985aeb8dd064row6_col1\" class=\"data row6 col1\" >$3.60</td>\n                        <td id=\"T_e32cb1f0_7488_11ea_8a15_985aeb8dd064row6_col2\" class=\"data row6 col2\" >$147.67</td>\n                        <td id=\"T_e32cb1f0_7488_11ea_8a15_985aeb8dd064row6_col3\" class=\"data row6 col3\" >$4.76</td>\n            </tr>\n            <tr>\n                        <th id=\"T_e32cb1f0_7488_11ea_8a15_985aeb8dd064level0_row7\" class=\"row_heading level0 row7\" >40+</th>\n                        <td id=\"T_e32cb1f0_7488_11ea_8a15_985aeb8dd064row7_col0\" class=\"data row7 col0\" >13</td>\n                        <td id=\"T_e32cb1f0_7488_11ea_8a15_985aeb8dd064row7_col1\" class=\"data row7 col1\" >$2.94</td>\n                        <td id=\"T_e32cb1f0_7488_11ea_8a15_985aeb8dd064row7_col2\" class=\"data row7 col2\" >$38.24</td>\n                        <td id=\"T_e32cb1f0_7488_11ea_8a15_985aeb8dd064row7_col3\" class=\"data row7 col3\" >$3.19</td>\n            </tr>\n    </tbody></table>"
     },
     "metadata": {},
     "execution_count": 26
    }
   ],
   "source": [
    "age_purchase_count = age_df[\"Purchase ID\"].count()\n",
    "\n",
    "age_avg_price = age_df[\"Price\"].mean()\n",
    "\n",
    "total_purchase_value = age_df[\"Price\"].sum()\n",
    "\n",
    "age_avg_purchase_per_person = total_purchase_value / age_count\n",
    "\n",
    "age_demographics = pd.DataFrame({\"Purchase Count\": age_purchase_count,\n",
    "                                 \"Average Purchase Price\": age_avg_price,\n",
    "                                 \"Total Purchase Value\": total_purchase_value,\n",
    "                                 \"Average Purchase Total per Person\": age_avg_purchase_per_person})\n",
    "\n",
    "age_demographics.style.format({\"Average Purchase Price\": \"${:.2f}\", \"Total Purchase Value\": \"${:.2f}\", \"Average Purchase Total per Person\": \"${:.2f}\"})"
   ]
  },
  {
   "cell_type": "markdown",
   "metadata": {},
   "source": [
    "## Top Spenders"
   ]
  },
  {
   "cell_type": "markdown",
   "metadata": {},
   "source": [
    "* Run basic calculations to obtain the results in the table below\n",
    "\n",
    "\n",
    "* Create a summary data frame to hold the results\n",
    "\n",
    "\n",
    "* Sort the total purchase value column in descending order\n",
    "\n",
    "\n",
    "* Optional: give the displayed data cleaner formatting\n",
    "\n",
    "\n",
    "* Display a preview of the summary data frame\n",
    "\n"
   ]
  },
  {
   "cell_type": "code",
   "execution_count": 27,
   "metadata": {},
   "outputs": [
    {
     "output_type": "execute_result",
     "data": {
      "text/plain": "<pandas.io.formats.style.Styler at 0x117a59150>",
      "text/html": "<style  type=\"text/css\" >\n</style><table id=\"T_e3316722_7488_11ea_8a15_985aeb8dd064\" ><thead>    <tr>        <th class=\"blank level0\" ></th>        <th class=\"col_heading level0 col0\" >Purchase Count</th>        <th class=\"col_heading level0 col1\" >Average Purchase Price</th>        <th class=\"col_heading level0 col2\" >Total Purchase Value</th>    </tr>    <tr>        <th class=\"index_name level0\" >SN</th>        <th class=\"blank\" ></th>        <th class=\"blank\" ></th>        <th class=\"blank\" ></th>    </tr></thead><tbody>\n                <tr>\n                        <th id=\"T_e3316722_7488_11ea_8a15_985aeb8dd064level0_row0\" class=\"row_heading level0 row0\" >Lisosia93</th>\n                        <td id=\"T_e3316722_7488_11ea_8a15_985aeb8dd064row0_col0\" class=\"data row0 col0\" >5</td>\n                        <td id=\"T_e3316722_7488_11ea_8a15_985aeb8dd064row0_col1\" class=\"data row0 col1\" >$3.79</td>\n                        <td id=\"T_e3316722_7488_11ea_8a15_985aeb8dd064row0_col2\" class=\"data row0 col2\" >$18.96</td>\n            </tr>\n            <tr>\n                        <th id=\"T_e3316722_7488_11ea_8a15_985aeb8dd064level0_row1\" class=\"row_heading level0 row1\" >Idastidru52</th>\n                        <td id=\"T_e3316722_7488_11ea_8a15_985aeb8dd064row1_col0\" class=\"data row1 col0\" >4</td>\n                        <td id=\"T_e3316722_7488_11ea_8a15_985aeb8dd064row1_col1\" class=\"data row1 col1\" >$3.86</td>\n                        <td id=\"T_e3316722_7488_11ea_8a15_985aeb8dd064row1_col2\" class=\"data row1 col2\" >$15.45</td>\n            </tr>\n            <tr>\n                        <th id=\"T_e3316722_7488_11ea_8a15_985aeb8dd064level0_row2\" class=\"row_heading level0 row2\" >Chamjask73</th>\n                        <td id=\"T_e3316722_7488_11ea_8a15_985aeb8dd064row2_col0\" class=\"data row2 col0\" >3</td>\n                        <td id=\"T_e3316722_7488_11ea_8a15_985aeb8dd064row2_col1\" class=\"data row2 col1\" >$4.61</td>\n                        <td id=\"T_e3316722_7488_11ea_8a15_985aeb8dd064row2_col2\" class=\"data row2 col2\" >$13.83</td>\n            </tr>\n            <tr>\n                        <th id=\"T_e3316722_7488_11ea_8a15_985aeb8dd064level0_row3\" class=\"row_heading level0 row3\" >Iral74</th>\n                        <td id=\"T_e3316722_7488_11ea_8a15_985aeb8dd064row3_col0\" class=\"data row3 col0\" >4</td>\n                        <td id=\"T_e3316722_7488_11ea_8a15_985aeb8dd064row3_col1\" class=\"data row3 col1\" >$3.40</td>\n                        <td id=\"T_e3316722_7488_11ea_8a15_985aeb8dd064row3_col2\" class=\"data row3 col2\" >$13.62</td>\n            </tr>\n            <tr>\n                        <th id=\"T_e3316722_7488_11ea_8a15_985aeb8dd064level0_row4\" class=\"row_heading level0 row4\" >Iskadarya95</th>\n                        <td id=\"T_e3316722_7488_11ea_8a15_985aeb8dd064row4_col0\" class=\"data row4 col0\" >3</td>\n                        <td id=\"T_e3316722_7488_11ea_8a15_985aeb8dd064row4_col1\" class=\"data row4 col1\" >$4.37</td>\n                        <td id=\"T_e3316722_7488_11ea_8a15_985aeb8dd064row4_col2\" class=\"data row4 col2\" >$13.10</td>\n            </tr>\n    </tbody></table>"
     },
     "metadata": {},
     "execution_count": 27
    }
   ],
   "source": [
    "sn_df = df.groupby(\"SN\")\n",
    "\n",
    "sn_purchase_count = sn_df[\"Purchase ID\"].count()\n",
    "\n",
    "sn_avg_purchase_price = sn_df[\"Price\"].mean()\n",
    "\n",
    "sn_purchase_value = sn_df[\"Price\"].sum()\n",
    "\n",
    "top_spenders = pd.DataFrame({\"Purchase Count\": sn_purchase_count,\n",
    "                            \"Average Purchase Price\": sn_avg_purchase_price,\n",
    "                            \"Total Purchase Value\": sn_purchase_value})\n",
    "\n",
    "sorted_df = top_spenders.sort_values(by=\"Total Purchase Value\", ascending=False).iloc[:5]\n",
    "sorted_df.style.format({\"Average Purchase Price\": \"${:.2f}\", \"Total Purchase Value\": \"${:.2f}\", \"Average Purchase Total per Person\": \"${:.2f}\"})"
   ]
  },
  {
   "cell_type": "markdown",
   "metadata": {},
   "source": [
    "## Most Popular Items"
   ]
  },
  {
   "cell_type": "markdown",
   "metadata": {},
   "source": [
    "* Retrieve the Item ID, Item Name, and Item Price columns\n",
    "\n",
    "\n",
    "* Group by Item ID and Item Name. Perform calculations to obtain purchase count, item price, and total purchase value\n",
    "\n",
    "\n",
    "* Create a summary data frame to hold the results\n",
    "\n",
    "\n",
    "* Sort the purchase count column in descending order\n",
    "\n",
    "\n",
    "* Optional: give the displayed data cleaner formatting\n",
    "\n",
    "\n",
    "* Display a preview of the summary data frame\n",
    "\n"
   ]
  },
  {
   "cell_type": "code",
   "execution_count": 32,
   "metadata": {},
   "outputs": [
    {
     "output_type": "execute_result",
     "data": {
      "text/plain": "<pandas.io.formats.style.Styler at 0x117270c10>",
      "text/html": "<style  type=\"text/css\" >\n</style><table id=\"T_0ba665a4_7489_11ea_8a15_985aeb8dd064\" ><thead>    <tr>        <th class=\"blank\" ></th>        <th class=\"blank level0\" ></th>        <th class=\"col_heading level0 col0\" >Purchase Count</th>        <th class=\"col_heading level0 col1\" >Item Price</th>        <th class=\"col_heading level0 col2\" >Total Purchase Value</th>    </tr>    <tr>        <th class=\"index_name level0\" >Item ID</th>        <th class=\"index_name level1\" >Item Name</th>        <th class=\"blank\" ></th>        <th class=\"blank\" ></th>        <th class=\"blank\" ></th>    </tr></thead><tbody>\n                <tr>\n                        <th id=\"T_0ba665a4_7489_11ea_8a15_985aeb8dd064level0_row0\" class=\"row_heading level0 row0\" >92</th>\n                        <th id=\"T_0ba665a4_7489_11ea_8a15_985aeb8dd064level1_row0\" class=\"row_heading level1 row0\" >Final Critic</th>\n                        <td id=\"T_0ba665a4_7489_11ea_8a15_985aeb8dd064row0_col0\" class=\"data row0 col0\" >13</td>\n                        <td id=\"T_0ba665a4_7489_11ea_8a15_985aeb8dd064row0_col1\" class=\"data row0 col1\" >$4.61</td>\n                        <td id=\"T_0ba665a4_7489_11ea_8a15_985aeb8dd064row0_col2\" class=\"data row0 col2\" >$59.99</td>\n            </tr>\n            <tr>\n                        <th id=\"T_0ba665a4_7489_11ea_8a15_985aeb8dd064level0_row1\" class=\"row_heading level0 row1\" >178</th>\n                        <th id=\"T_0ba665a4_7489_11ea_8a15_985aeb8dd064level1_row1\" class=\"row_heading level1 row1\" >Oathbreaker, Last Hope of the Breaking Storm</th>\n                        <td id=\"T_0ba665a4_7489_11ea_8a15_985aeb8dd064row1_col0\" class=\"data row1 col0\" >12</td>\n                        <td id=\"T_0ba665a4_7489_11ea_8a15_985aeb8dd064row1_col1\" class=\"data row1 col1\" >$4.23</td>\n                        <td id=\"T_0ba665a4_7489_11ea_8a15_985aeb8dd064row1_col2\" class=\"data row1 col2\" >$50.76</td>\n            </tr>\n            <tr>\n                        <th id=\"T_0ba665a4_7489_11ea_8a15_985aeb8dd064level0_row2\" class=\"row_heading level0 row2\" >145</th>\n                        <th id=\"T_0ba665a4_7489_11ea_8a15_985aeb8dd064level1_row2\" class=\"row_heading level1 row2\" >Fiery Glass Crusader</th>\n                        <td id=\"T_0ba665a4_7489_11ea_8a15_985aeb8dd064row2_col0\" class=\"data row2 col0\" >9</td>\n                        <td id=\"T_0ba665a4_7489_11ea_8a15_985aeb8dd064row2_col1\" class=\"data row2 col1\" >$4.58</td>\n                        <td id=\"T_0ba665a4_7489_11ea_8a15_985aeb8dd064row2_col2\" class=\"data row2 col2\" >$41.22</td>\n            </tr>\n            <tr>\n                        <th id=\"T_0ba665a4_7489_11ea_8a15_985aeb8dd064level0_row3\" class=\"row_heading level0 row3\" >132</th>\n                        <th id=\"T_0ba665a4_7489_11ea_8a15_985aeb8dd064level1_row3\" class=\"row_heading level1 row3\" >Persuasion</th>\n                        <td id=\"T_0ba665a4_7489_11ea_8a15_985aeb8dd064row3_col0\" class=\"data row3 col0\" >9</td>\n                        <td id=\"T_0ba665a4_7489_11ea_8a15_985aeb8dd064row3_col1\" class=\"data row3 col1\" >$3.22</td>\n                        <td id=\"T_0ba665a4_7489_11ea_8a15_985aeb8dd064row3_col2\" class=\"data row3 col2\" >$28.99</td>\n            </tr>\n            <tr>\n                        <th id=\"T_0ba665a4_7489_11ea_8a15_985aeb8dd064level0_row4\" class=\"row_heading level0 row4\" >108</th>\n                        <th id=\"T_0ba665a4_7489_11ea_8a15_985aeb8dd064level1_row4\" class=\"row_heading level1 row4\" >Extraction, Quickblade Of Trembling Hands</th>\n                        <td id=\"T_0ba665a4_7489_11ea_8a15_985aeb8dd064row4_col0\" class=\"data row4 col0\" >9</td>\n                        <td id=\"T_0ba665a4_7489_11ea_8a15_985aeb8dd064row4_col1\" class=\"data row4 col1\" >$3.53</td>\n                        <td id=\"T_0ba665a4_7489_11ea_8a15_985aeb8dd064row4_col2\" class=\"data row4 col2\" >$31.77</td>\n            </tr>\n    </tbody></table>"
     },
     "metadata": {},
     "execution_count": 32
    }
   ],
   "source": [
    "items = df[[\"Item ID\", \"Item Name\", \"Price\"]]\n",
    "\n",
    "item_df = items.groupby([\"Item ID\", \"Item Name\"])\n",
    "\n",
    "item_purchase_count = item_df[\"Price\"].count()\n",
    "\n",
    "item_total_value = item_df[\"Price\"].sum()\n",
    "\n",
    "item_price = item_total_value / item_purchase_count\n",
    "\n",
    "popular_items = pd.DataFrame({\"Purchase Count\": item_purchase_count,\n",
    "                            \"Item Price\": item_price,\n",
    "                            \"Total Purchase Value\": item_total_value})\n",
    "\n",
    "sorted_items_df = popular_items.sort_values(by=\"Purchase Count\", ascending=False).iloc[:5]\n",
    "sorted_items_df.style.format({\"Item Price\": \"${:.2f}\", \"Total Purchase Value\": \"${:.2f}\", \"Average Purchase Total per Person\": \"${:.2f}\"})"
   ]
  },
  {
   "cell_type": "markdown",
   "metadata": {},
   "source": [
    "## Most Profitable Items"
   ]
  },
  {
   "cell_type": "markdown",
   "metadata": {},
   "source": [
    "* Sort the above table by total purchase value in descending order\n",
    "\n",
    "\n",
    "* Optional: give the displayed data cleaner formatting\n",
    "\n",
    "\n",
    "* Display a preview of the data frame\n",
    "\n"
   ]
  },
  {
   "cell_type": "code",
   "execution_count": 34,
   "metadata": {
    "scrolled": true
   },
   "outputs": [
    {
     "output_type": "execute_result",
     "data": {
      "text/plain": "<pandas.io.formats.style.Styler at 0x11679ccd0>",
      "text/html": "<style  type=\"text/css\" >\n</style><table id=\"T_0e73d154_7489_11ea_8a15_985aeb8dd064\" ><thead>    <tr>        <th class=\"blank\" ></th>        <th class=\"blank level0\" ></th>        <th class=\"col_heading level0 col0\" >Purchase Count</th>        <th class=\"col_heading level0 col1\" >Item Price</th>        <th class=\"col_heading level0 col2\" >Total Purchase Value</th>    </tr>    <tr>        <th class=\"index_name level0\" >Item ID</th>        <th class=\"index_name level1\" >Item Name</th>        <th class=\"blank\" ></th>        <th class=\"blank\" ></th>        <th class=\"blank\" ></th>    </tr></thead><tbody>\n                <tr>\n                        <th id=\"T_0e73d154_7489_11ea_8a15_985aeb8dd064level0_row0\" class=\"row_heading level0 row0\" >92</th>\n                        <th id=\"T_0e73d154_7489_11ea_8a15_985aeb8dd064level1_row0\" class=\"row_heading level1 row0\" >Final Critic</th>\n                        <td id=\"T_0e73d154_7489_11ea_8a15_985aeb8dd064row0_col0\" class=\"data row0 col0\" >13</td>\n                        <td id=\"T_0e73d154_7489_11ea_8a15_985aeb8dd064row0_col1\" class=\"data row0 col1\" >$4.61</td>\n                        <td id=\"T_0e73d154_7489_11ea_8a15_985aeb8dd064row0_col2\" class=\"data row0 col2\" >$59.99</td>\n            </tr>\n            <tr>\n                        <th id=\"T_0e73d154_7489_11ea_8a15_985aeb8dd064level0_row1\" class=\"row_heading level0 row1\" >178</th>\n                        <th id=\"T_0e73d154_7489_11ea_8a15_985aeb8dd064level1_row1\" class=\"row_heading level1 row1\" >Oathbreaker, Last Hope of the Breaking Storm</th>\n                        <td id=\"T_0e73d154_7489_11ea_8a15_985aeb8dd064row1_col0\" class=\"data row1 col0\" >12</td>\n                        <td id=\"T_0e73d154_7489_11ea_8a15_985aeb8dd064row1_col1\" class=\"data row1 col1\" >$4.23</td>\n                        <td id=\"T_0e73d154_7489_11ea_8a15_985aeb8dd064row1_col2\" class=\"data row1 col2\" >$50.76</td>\n            </tr>\n            <tr>\n                        <th id=\"T_0e73d154_7489_11ea_8a15_985aeb8dd064level0_row2\" class=\"row_heading level0 row2\" >82</th>\n                        <th id=\"T_0e73d154_7489_11ea_8a15_985aeb8dd064level1_row2\" class=\"row_heading level1 row2\" >Nirvana</th>\n                        <td id=\"T_0e73d154_7489_11ea_8a15_985aeb8dd064row2_col0\" class=\"data row2 col0\" >9</td>\n                        <td id=\"T_0e73d154_7489_11ea_8a15_985aeb8dd064row2_col1\" class=\"data row2 col1\" >$4.90</td>\n                        <td id=\"T_0e73d154_7489_11ea_8a15_985aeb8dd064row2_col2\" class=\"data row2 col2\" >$44.10</td>\n            </tr>\n            <tr>\n                        <th id=\"T_0e73d154_7489_11ea_8a15_985aeb8dd064level0_row3\" class=\"row_heading level0 row3\" >145</th>\n                        <th id=\"T_0e73d154_7489_11ea_8a15_985aeb8dd064level1_row3\" class=\"row_heading level1 row3\" >Fiery Glass Crusader</th>\n                        <td id=\"T_0e73d154_7489_11ea_8a15_985aeb8dd064row3_col0\" class=\"data row3 col0\" >9</td>\n                        <td id=\"T_0e73d154_7489_11ea_8a15_985aeb8dd064row3_col1\" class=\"data row3 col1\" >$4.58</td>\n                        <td id=\"T_0e73d154_7489_11ea_8a15_985aeb8dd064row3_col2\" class=\"data row3 col2\" >$41.22</td>\n            </tr>\n            <tr>\n                        <th id=\"T_0e73d154_7489_11ea_8a15_985aeb8dd064level0_row4\" class=\"row_heading level0 row4\" >103</th>\n                        <th id=\"T_0e73d154_7489_11ea_8a15_985aeb8dd064level1_row4\" class=\"row_heading level1 row4\" >Singed Scalpel</th>\n                        <td id=\"T_0e73d154_7489_11ea_8a15_985aeb8dd064row4_col0\" class=\"data row4 col0\" >8</td>\n                        <td id=\"T_0e73d154_7489_11ea_8a15_985aeb8dd064row4_col1\" class=\"data row4 col1\" >$4.35</td>\n                        <td id=\"T_0e73d154_7489_11ea_8a15_985aeb8dd064row4_col2\" class=\"data row4 col2\" >$34.80</td>\n            </tr>\n    </tbody></table>"
     },
     "metadata": {},
     "execution_count": 34
    }
   ],
   "source": [
    "sorted_items_df = popular_items.sort_values(by=\"Total Purchase Value\", ascending=False).iloc[:5]\n",
    "sorted_items_df.style.format({\"Item Price\": \"${:.2f}\", \"Total Purchase Value\": \"${:.2f}\", \"Average Purchase Total per Person\": \"${:.2f}\"})"
   ]
  },
  {
   "cell_type": "code",
   "execution_count": null,
   "metadata": {},
   "outputs": [],
   "source": []
  }
 ],
 "metadata": {
  "anaconda-cloud": {},
  "kernel_info": {
   "name": "python3"
  },
  "kernelspec": {
   "display_name": "Python 3",
   "language": "python",
   "name": "python3"
  },
  "language_info": {
   "codemirror_mode": {
    "name": "ipython",
    "version": 3
   },
   "file_extension": ".py",
   "mimetype": "text/x-python",
   "name": "python",
   "nbconvert_exporter": "python",
   "pygments_lexer": "ipython3",
   "version": "3.7.6-final"
  },
  "latex_envs": {
   "LaTeX_envs_menu_present": true,
   "autoclose": false,
   "autocomplete": true,
   "bibliofile": "biblio.bib",
   "cite_by": "apalike",
   "current_citInitial": 1,
   "eqLabelWithNumbers": true,
   "eqNumInitial": 1,
   "hotkeys": {
    "equation": "Ctrl-E",
    "itemize": "Ctrl-I"
   },
   "labels_anchors": false,
   "latex_user_defs": false,
   "report_style_numbering": false,
   "user_envs_cfg": false
  },
  "nteract": {
   "version": "0.2.0"
  }
 },
 "nbformat": 4,
 "nbformat_minor": 2
}